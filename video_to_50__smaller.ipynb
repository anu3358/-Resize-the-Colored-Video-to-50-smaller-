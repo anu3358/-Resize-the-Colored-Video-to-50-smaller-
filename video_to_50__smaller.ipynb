{
  "nbformat": 4,
  "nbformat_minor": 0,
  "metadata": {
    "colab": {
      "provenance": [],
      "include_colab_link": true
    },
    "kernelspec": {
      "name": "python3",
      "display_name": "Python 3"
    },
    "language_info": {
      "name": "python"
    }
  },
  "cells": [
    {
      "cell_type": "markdown",
      "metadata": {
        "id": "view-in-github",
        "colab_type": "text"
      },
      "source": [
        "<a href=\"https://colab.research.google.com/github/anu3358/-Resize-the-Colored-Video-to-50-smaller-/blob/main/video_to_50__smaller.ipynb\" target=\"_parent\"><img src=\"https://colab.research.google.com/assets/colab-badge.svg\" alt=\"Open In Colab\"/></a>"
      ]
    },
    {
      "cell_type": "code",
      "execution_count": null,
      "metadata": {
        "colab": {
          "base_uri": "https://localhost:8080/"
        },
        "id": "pMQjjOD05xnr",
        "outputId": "ff2b15a9-27ba-4e6e-98db-97c2973bdf4a"
      },
      "outputs": [
        {
          "output_type": "stream",
          "name": "stdout",
          "text": [
            "Requirement already satisfied: opencv-python in /usr/local/lib/python3.11/dist-packages (4.11.0.86)\n",
            "Requirement already satisfied: numpy>=1.21.2 in /usr/local/lib/python3.11/dist-packages (from opencv-python) (2.0.2)\n"
          ]
        }
      ],
      "source": [
        "! pip install opencv-python"
      ]
    },
    {
      "cell_type": "code",
      "source": [
        "import cv2\n",
        "\n",
        "def resize_video_to_50_percent(input_video_path, output_video_path):\n",
        "    cap = cv2.VideoCapture(input_video_path)\n",
        "\n",
        "    if not cap.isOpened():\n",
        "        print(f\"Error: Could not open video file {input_video_path}\")\n",
        "        return\n",
        "\n",
        "    frame_width = int(cap.get(cv2.CAP_PROP_FRAME_WIDTH))\n",
        "    frame_height = int(cap.get(cv2.CAP_PROP_FRAME_HEIGHT))\n",
        "    fps = cap.get(cv2.CAP_PROP_FPS)\n",
        "    fourcc = cv2.VideoWriter_fourcc(*'mp4v')\n",
        "    new_width = int(frame_width * 0.5)\n",
        "    new_height = int(frame_height * 0.5)\n",
        "    new_size = (new_width, new_height)\n",
        "\n",
        "    out = cv2.VideoWriter(output_video_path, fourcc, fps, new_size)\n",
        "\n",
        "    while True:\n",
        "        ret, frame = cap.read()\n",
        "\n",
        "        if not ret:\n",
        "            break\n",
        "        resized_frame = cv2.resize(frame, new_size, interpolation=cv2.INTER_AREA)\n",
        "\n",
        "        out.write(resized_frame)\n",
        "\n",
        "\n",
        "    cap.release()\n",
        "    out.release()\n",
        "    cv2.destroyAllWindows()\n",
        "    print(f\"Video resized and saved to {output_video_path}\")\n"
      ],
      "metadata": {
        "id": "4rx0ShHjPFYr"
      },
      "execution_count": null,
      "outputs": []
    }
  ]
}